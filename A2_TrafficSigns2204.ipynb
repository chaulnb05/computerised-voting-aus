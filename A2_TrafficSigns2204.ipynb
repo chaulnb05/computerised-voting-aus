{
  "nbformat": 4,
  "nbformat_minor": 0,
  "metadata": {
    "colab": {
      "provenance": [],
      "include_colab_link": true
    },
    "kernelspec": {
      "name": "python3",
      "display_name": "Python 3"
    },
    "language_info": {
      "name": "python"
    }
  },
  "cells": [
    {
      "cell_type": "markdown",
      "metadata": {
        "id": "view-in-github",
        "colab_type": "text"
      },
      "source": [
        "<a href=\"https://colab.research.google.com/github/chaulnb05/computerised-voting-aus/blob/main/A2_TrafficSigns2204.ipynb\" target=\"_parent\"><img src=\"https://colab.research.google.com/assets/colab-badge.svg\" alt=\"Open In Colab\"/></a>"
      ]
    },
    {
      "cell_type": "code",
      "execution_count": null,
      "metadata": {
        "colab": {
          "base_uri": "https://localhost:8080/"
        },
        "id": "TK4gxogKSqAt",
        "outputId": "45d88720-1f42-4287-dc37-81eaeb2a056a"
      },
      "outputs": [
        {
          "output_type": "stream",
          "name": "stdout",
          "text": [
            "2.15.0\n"
          ]
        }
      ],
      "source": [
        "import tensorflow as tf\n",
        "print(tensorflow.__version__)"
      ]
    },
    {
      "cell_type": "code",
      "source": [
        "from google.colab import drive\n",
        "drive.mount('/content/drive')"
      ],
      "metadata": {
        "colab": {
          "base_uri": "https://localhost:8080/"
        },
        "id": "m5007KsQSy0A",
        "outputId": "d8557008-1ee9-440c-8ec0-ce07f7e3d846"
      },
      "execution_count": null,
      "outputs": [
        {
          "output_type": "stream",
          "name": "stdout",
          "text": [
            "Mounted at /content/drive\n"
          ]
        }
      ]
    },
    {
      "cell_type": "code",
      "source": [
        "!ls /content/drive/'My Drive'/COSC2673A2/"
      ],
      "metadata": {
        "colab": {
          "base_uri": "https://localhost:8080/"
        },
        "id": "aRQTrluvTijM",
        "outputId": "f7d19077-2859-41f4-90af-ca7cdc9cb802"
      },
      "execution_count": null,
      "outputs": [
        {
          "output_type": "stream",
          "name": "stdout",
          "text": [
            "trafficsigns_dataset.zip\n"
          ]
        }
      ]
    },
    {
      "cell_type": "code",
      "source": [
        "!cp /content/drive/'My Drive'/COSC2673A2/trafficsigns_dataset.zip .\n",
        "!unzip -q -o trafficsigns_dataset.zip\n",
        "!rm trafficsigns_dataset.zip\n",
        "!ls\n"
      ],
      "metadata": {
        "colab": {
          "base_uri": "https://localhost:8080/"
        },
        "id": "2lZHQfpxTlcZ",
        "outputId": "d5a83466-9baf-4a72-eb5e-0ada6e33447c"
      },
      "execution_count": null,
      "outputs": [
        {
          "output_type": "stream",
          "name": "stdout",
          "text": [
            "drive  __MACOSX  sample_data  trafficsigns_dataset\n"
          ]
        }
      ]
    },
    {
      "cell_type": "markdown",
      "source": [
        "#**EDA**"
      ],
      "metadata": {
        "id": "JY5__h7jruor"
      }
    },
    {
      "cell_type": "code",
      "source": [
        "# libraries\n",
        "\n",
        "import os\n",
        "from PIL import Image\n",
        "\n",
        "import matplotlib.pyplot as plt\n",
        "import random\n",
        "\n",
        "import matplotlib.pyplot as plt\n",
        "import pandas as pd\n",
        "import glob\n",
        "import cv2"
      ],
      "metadata": {
        "id": "tM5USEvyrzuv"
      },
      "execution_count": null,
      "outputs": []
    },
    {
      "cell_type": "code",
      "source": [
        "dataset_folder = 'trafficsigns_dataset'\n",
        "\n",
        "# List subfolders in dataset folder\n",
        "subfolders = [subfolder for subfolder in os.listdir(dataset_folder) if os.path.isdir(os.path.join(dataset_folder, subfolder))]\n",
        "\n",
        "# Iterate over subfolders\n",
        "for subfolder in subfolders:\n",
        "    subfolder_path = os.path.join(dataset_folder, subfolder)\n",
        "    print(f\"Subfolder: {subfolder}\")\n",
        "\n",
        "    # List files in current subfolder\n",
        "    files = os.listdir(subfolder_path)\n",
        "\n",
        "    # Print files in current subfolder\n",
        "    for file in files:\n",
        "        print(f\"  - {file}\")\n"
      ],
      "metadata": {
        "colab": {
          "base_uri": "https://localhost:8080/"
        },
        "id": "2Aa-mnZWBqXO",
        "outputId": "d5b16025-de3c-4351-fcdd-2ee62ac8fb3d"
      },
      "execution_count": null,
      "outputs": [
        {
          "output_type": "stream",
          "name": "stdout",
          "text": [
            "Subfolder: round\n",
            "  - traveldirection\n",
            "  - noparking\n",
            "  - limitedtraffic\n",
            "  - roundabout\n",
            "  - noentry\n",
            "  - trafficdirective\n",
            "  - speed\n",
            "  - bicycle\n",
            "  - .DS_Store\n",
            "Subfolder: triangle\n",
            "  - warning\n",
            "  - giveway\n",
            "Subfolder: square\n",
            "  - laneend\n",
            "  - crossing\n",
            "  - continue\n",
            "  - .DS_Store\n",
            "  - parking\n",
            "Subfolder: diamond\n",
            "  - rightofway\n",
            "Subfolder: hex\n",
            "  - stop\n"
          ]
        }
      ]
    },
    {
      "cell_type": "code",
      "source": [
        "dataset_folder = 'trafficsigns_dataset'\n",
        "subfolders = ['hex', 'triangle', 'diamond', 'square', 'round']\n",
        "\n",
        "data = []\n",
        "subfolder_variables = {}\n",
        "\n",
        "# Iterate over the main subfolders\n",
        "for label in subfolders:\n",
        "    subfolder_path = os.path.join(dataset_folder, label)\n",
        "\n",
        "    # Check if the subfolder exists\n",
        "    if os.path.exists(subfolder_path) and os.path.isdir(subfolder_path):\n",
        "        subfolder_contents = os.listdir(subfolder_path)\n",
        "        subfolder_variables[label] = {}  # Initialize empty dictionary for sub-subfolders\n",
        "\n",
        "        # Iterate over the sub-subfolders\n",
        "        for sub_label in subfolder_contents:\n",
        "            sub_subfolder_path = os.path.join(subfolder_path, sub_label)\n",
        "\n",
        "            # Check if the sub-subfolder exists\n",
        "            if os.path.exists(sub_subfolder_path) and os.path.isdir(sub_subfolder_path):\n",
        "                images = []\n",
        "\n",
        "                # Iterate over the image files in the sub-subfolder\n",
        "                for filename in os.listdir(sub_subfolder_path):\n",
        "                    file_path = os.path.join(sub_subfolder_path, filename)\n",
        "\n",
        "                    # Check if the file is an image (PNG format)\n",
        "                    if filename.endswith('.png'):\n",
        "                        # Open the image using PIL\n",
        "                        image = Image.open(file_path)\n",
        "\n",
        "                        # Append the image to the list of images for the sub-subfolder\n",
        "                        images.append(image)\n",
        "\n",
        "                # Save the list of images for the current sub-subfolder in subfolder_variables\n",
        "                subfolder_variables[label][sub_label] = images\n",
        "\n",
        "                # Append image name (full path) and label to the data list for DataFrame creation\n",
        "                for image_path in images:\n",
        "                    data.append({'image name': file_path, 'label': os.path.join(label, sub_label)})\n",
        "\n",
        "# Create a DataFrame from the list of dictionaries (data)\n",
        "df = pd.DataFrame(data)\n",
        "\n",
        "# Display the DataFrame\n",
        "df.head()\n"
      ],
      "metadata": {
        "colab": {
          "base_uri": "https://localhost:8080/",
          "height": 206
        },
        "id": "nyqJ9al3UFYR",
        "outputId": "aaaa30e0-235c-48fc-d7dd-c13695ca1338"
      },
      "execution_count": null,
      "outputs": [
        {
          "output_type": "execute_result",
          "data": {
            "text/plain": [
              "                                      image name     label\n",
              "0  trafficsigns_dataset/hex/stop/01162_00000.png  hex/stop\n",
              "1  trafficsigns_dataset/hex/stop/01162_00000.png  hex/stop\n",
              "2  trafficsigns_dataset/hex/stop/01162_00000.png  hex/stop\n",
              "3  trafficsigns_dataset/hex/stop/01162_00000.png  hex/stop\n",
              "4  trafficsigns_dataset/hex/stop/01162_00000.png  hex/stop"
            ],
            "text/html": [
              "\n",
              "  <div id=\"df-7e8dac7a-24d0-4beb-aafe-043554e48e9b\" class=\"colab-df-container\">\n",
              "    <div>\n",
              "<style scoped>\n",
              "    .dataframe tbody tr th:only-of-type {\n",
              "        vertical-align: middle;\n",
              "    }\n",
              "\n",
              "    .dataframe tbody tr th {\n",
              "        vertical-align: top;\n",
              "    }\n",
              "\n",
              "    .dataframe thead th {\n",
              "        text-align: right;\n",
              "    }\n",
              "</style>\n",
              "<table border=\"1\" class=\"dataframe\">\n",
              "  <thead>\n",
              "    <tr style=\"text-align: right;\">\n",
              "      <th></th>\n",
              "      <th>image name</th>\n",
              "      <th>label</th>\n",
              "    </tr>\n",
              "  </thead>\n",
              "  <tbody>\n",
              "    <tr>\n",
              "      <th>0</th>\n",
              "      <td>trafficsigns_dataset/hex/stop/01162_00000.png</td>\n",
              "      <td>hex/stop</td>\n",
              "    </tr>\n",
              "    <tr>\n",
              "      <th>1</th>\n",
              "      <td>trafficsigns_dataset/hex/stop/01162_00000.png</td>\n",
              "      <td>hex/stop</td>\n",
              "    </tr>\n",
              "    <tr>\n",
              "      <th>2</th>\n",
              "      <td>trafficsigns_dataset/hex/stop/01162_00000.png</td>\n",
              "      <td>hex/stop</td>\n",
              "    </tr>\n",
              "    <tr>\n",
              "      <th>3</th>\n",
              "      <td>trafficsigns_dataset/hex/stop/01162_00000.png</td>\n",
              "      <td>hex/stop</td>\n",
              "    </tr>\n",
              "    <tr>\n",
              "      <th>4</th>\n",
              "      <td>trafficsigns_dataset/hex/stop/01162_00000.png</td>\n",
              "      <td>hex/stop</td>\n",
              "    </tr>\n",
              "  </tbody>\n",
              "</table>\n",
              "</div>\n",
              "    <div class=\"colab-df-buttons\">\n",
              "\n",
              "  <div class=\"colab-df-container\">\n",
              "    <button class=\"colab-df-convert\" onclick=\"convertToInteractive('df-7e8dac7a-24d0-4beb-aafe-043554e48e9b')\"\n",
              "            title=\"Convert this dataframe to an interactive table.\"\n",
              "            style=\"display:none;\">\n",
              "\n",
              "  <svg xmlns=\"http://www.w3.org/2000/svg\" height=\"24px\" viewBox=\"0 -960 960 960\">\n",
              "    <path d=\"M120-120v-720h720v720H120Zm60-500h600v-160H180v160Zm220 220h160v-160H400v160Zm0 220h160v-160H400v160ZM180-400h160v-160H180v160Zm440 0h160v-160H620v160ZM180-180h160v-160H180v160Zm440 0h160v-160H620v160Z\"/>\n",
              "  </svg>\n",
              "    </button>\n",
              "\n",
              "  <style>\n",
              "    .colab-df-container {\n",
              "      display:flex;\n",
              "      gap: 12px;\n",
              "    }\n",
              "\n",
              "    .colab-df-convert {\n",
              "      background-color: #E8F0FE;\n",
              "      border: none;\n",
              "      border-radius: 50%;\n",
              "      cursor: pointer;\n",
              "      display: none;\n",
              "      fill: #1967D2;\n",
              "      height: 32px;\n",
              "      padding: 0 0 0 0;\n",
              "      width: 32px;\n",
              "    }\n",
              "\n",
              "    .colab-df-convert:hover {\n",
              "      background-color: #E2EBFA;\n",
              "      box-shadow: 0px 1px 2px rgba(60, 64, 67, 0.3), 0px 1px 3px 1px rgba(60, 64, 67, 0.15);\n",
              "      fill: #174EA6;\n",
              "    }\n",
              "\n",
              "    .colab-df-buttons div {\n",
              "      margin-bottom: 4px;\n",
              "    }\n",
              "\n",
              "    [theme=dark] .colab-df-convert {\n",
              "      background-color: #3B4455;\n",
              "      fill: #D2E3FC;\n",
              "    }\n",
              "\n",
              "    [theme=dark] .colab-df-convert:hover {\n",
              "      background-color: #434B5C;\n",
              "      box-shadow: 0px 1px 3px 1px rgba(0, 0, 0, 0.15);\n",
              "      filter: drop-shadow(0px 1px 2px rgba(0, 0, 0, 0.3));\n",
              "      fill: #FFFFFF;\n",
              "    }\n",
              "  </style>\n",
              "\n",
              "    <script>\n",
              "      const buttonEl =\n",
              "        document.querySelector('#df-7e8dac7a-24d0-4beb-aafe-043554e48e9b button.colab-df-convert');\n",
              "      buttonEl.style.display =\n",
              "        google.colab.kernel.accessAllowed ? 'block' : 'none';\n",
              "\n",
              "      async function convertToInteractive(key) {\n",
              "        const element = document.querySelector('#df-7e8dac7a-24d0-4beb-aafe-043554e48e9b');\n",
              "        const dataTable =\n",
              "          await google.colab.kernel.invokeFunction('convertToInteractive',\n",
              "                                                    [key], {});\n",
              "        if (!dataTable) return;\n",
              "\n",
              "        const docLinkHtml = 'Like what you see? Visit the ' +\n",
              "          '<a target=\"_blank\" href=https://colab.research.google.com/notebooks/data_table.ipynb>data table notebook</a>'\n",
              "          + ' to learn more about interactive tables.';\n",
              "        element.innerHTML = '';\n",
              "        dataTable['output_type'] = 'display_data';\n",
              "        await google.colab.output.renderOutput(dataTable, element);\n",
              "        const docLink = document.createElement('div');\n",
              "        docLink.innerHTML = docLinkHtml;\n",
              "        element.appendChild(docLink);\n",
              "      }\n",
              "    </script>\n",
              "  </div>\n",
              "\n",
              "\n",
              "<div id=\"df-36115d5b-6290-44c4-aea7-2dc030f7364e\">\n",
              "  <button class=\"colab-df-quickchart\" onclick=\"quickchart('df-36115d5b-6290-44c4-aea7-2dc030f7364e')\"\n",
              "            title=\"Suggest charts\"\n",
              "            style=\"display:none;\">\n",
              "\n",
              "<svg xmlns=\"http://www.w3.org/2000/svg\" height=\"24px\"viewBox=\"0 0 24 24\"\n",
              "     width=\"24px\">\n",
              "    <g>\n",
              "        <path d=\"M19 3H5c-1.1 0-2 .9-2 2v14c0 1.1.9 2 2 2h14c1.1 0 2-.9 2-2V5c0-1.1-.9-2-2-2zM9 17H7v-7h2v7zm4 0h-2V7h2v10zm4 0h-2v-4h2v4z\"/>\n",
              "    </g>\n",
              "</svg>\n",
              "  </button>\n",
              "\n",
              "<style>\n",
              "  .colab-df-quickchart {\n",
              "      --bg-color: #E8F0FE;\n",
              "      --fill-color: #1967D2;\n",
              "      --hover-bg-color: #E2EBFA;\n",
              "      --hover-fill-color: #174EA6;\n",
              "      --disabled-fill-color: #AAA;\n",
              "      --disabled-bg-color: #DDD;\n",
              "  }\n",
              "\n",
              "  [theme=dark] .colab-df-quickchart {\n",
              "      --bg-color: #3B4455;\n",
              "      --fill-color: #D2E3FC;\n",
              "      --hover-bg-color: #434B5C;\n",
              "      --hover-fill-color: #FFFFFF;\n",
              "      --disabled-bg-color: #3B4455;\n",
              "      --disabled-fill-color: #666;\n",
              "  }\n",
              "\n",
              "  .colab-df-quickchart {\n",
              "    background-color: var(--bg-color);\n",
              "    border: none;\n",
              "    border-radius: 50%;\n",
              "    cursor: pointer;\n",
              "    display: none;\n",
              "    fill: var(--fill-color);\n",
              "    height: 32px;\n",
              "    padding: 0;\n",
              "    width: 32px;\n",
              "  }\n",
              "\n",
              "  .colab-df-quickchart:hover {\n",
              "    background-color: var(--hover-bg-color);\n",
              "    box-shadow: 0 1px 2px rgba(60, 64, 67, 0.3), 0 1px 3px 1px rgba(60, 64, 67, 0.15);\n",
              "    fill: var(--button-hover-fill-color);\n",
              "  }\n",
              "\n",
              "  .colab-df-quickchart-complete:disabled,\n",
              "  .colab-df-quickchart-complete:disabled:hover {\n",
              "    background-color: var(--disabled-bg-color);\n",
              "    fill: var(--disabled-fill-color);\n",
              "    box-shadow: none;\n",
              "  }\n",
              "\n",
              "  .colab-df-spinner {\n",
              "    border: 2px solid var(--fill-color);\n",
              "    border-color: transparent;\n",
              "    border-bottom-color: var(--fill-color);\n",
              "    animation:\n",
              "      spin 1s steps(1) infinite;\n",
              "  }\n",
              "\n",
              "  @keyframes spin {\n",
              "    0% {\n",
              "      border-color: transparent;\n",
              "      border-bottom-color: var(--fill-color);\n",
              "      border-left-color: var(--fill-color);\n",
              "    }\n",
              "    20% {\n",
              "      border-color: transparent;\n",
              "      border-left-color: var(--fill-color);\n",
              "      border-top-color: var(--fill-color);\n",
              "    }\n",
              "    30% {\n",
              "      border-color: transparent;\n",
              "      border-left-color: var(--fill-color);\n",
              "      border-top-color: var(--fill-color);\n",
              "      border-right-color: var(--fill-color);\n",
              "    }\n",
              "    40% {\n",
              "      border-color: transparent;\n",
              "      border-right-color: var(--fill-color);\n",
              "      border-top-color: var(--fill-color);\n",
              "    }\n",
              "    60% {\n",
              "      border-color: transparent;\n",
              "      border-right-color: var(--fill-color);\n",
              "    }\n",
              "    80% {\n",
              "      border-color: transparent;\n",
              "      border-right-color: var(--fill-color);\n",
              "      border-bottom-color: var(--fill-color);\n",
              "    }\n",
              "    90% {\n",
              "      border-color: transparent;\n",
              "      border-bottom-color: var(--fill-color);\n",
              "    }\n",
              "  }\n",
              "</style>\n",
              "\n",
              "  <script>\n",
              "    async function quickchart(key) {\n",
              "      const quickchartButtonEl =\n",
              "        document.querySelector('#' + key + ' button');\n",
              "      quickchartButtonEl.disabled = true;  // To prevent multiple clicks.\n",
              "      quickchartButtonEl.classList.add('colab-df-spinner');\n",
              "      try {\n",
              "        const charts = await google.colab.kernel.invokeFunction(\n",
              "            'suggestCharts', [key], {});\n",
              "      } catch (error) {\n",
              "        console.error('Error during call to suggestCharts:', error);\n",
              "      }\n",
              "      quickchartButtonEl.classList.remove('colab-df-spinner');\n",
              "      quickchartButtonEl.classList.add('colab-df-quickchart-complete');\n",
              "    }\n",
              "    (() => {\n",
              "      let quickchartButtonEl =\n",
              "        document.querySelector('#df-36115d5b-6290-44c4-aea7-2dc030f7364e button');\n",
              "      quickchartButtonEl.style.display =\n",
              "        google.colab.kernel.accessAllowed ? 'block' : 'none';\n",
              "    })();\n",
              "  </script>\n",
              "</div>\n",
              "\n",
              "    </div>\n",
              "  </div>\n"
            ],
            "application/vnd.google.colaboratory.intrinsic+json": {
              "type": "dataframe",
              "variable_name": "df",
              "summary": "{\n  \"name\": \"df\",\n  \"rows\": 3699,\n  \"fields\": [\n    {\n      \"column\": \"image name\",\n      \"properties\": {\n        \"dtype\": \"category\",\n        \"num_unique_values\": 16,\n        \"samples\": [\n          \"trafficsigns_dataset/hex/stop/01162_00000.png\",\n          \"trafficsigns_dataset/triangle/warning/01537_00001.png\",\n          \"trafficsigns_dataset/square/crossing/00151_00001.png\"\n        ],\n        \"semantic_type\": \"\",\n        \"description\": \"\"\n      }\n    },\n    {\n      \"column\": \"label\",\n      \"properties\": {\n        \"dtype\": \"category\",\n        \"num_unique_values\": 16,\n        \"samples\": [\n          \"hex/stop\",\n          \"triangle/warning\",\n          \"square/crossing\"\n        ],\n        \"semantic_type\": \"\",\n        \"description\": \"\"\n      }\n    }\n  ]\n}"
            }
          },
          "metadata": {},
          "execution_count": 9
        }
      ]
    },
    {
      "cell_type": "code",
      "source": [
        "label_counts = df['label'].value_counts()\n",
        "print(label_counts)"
      ],
      "metadata": {
        "colab": {
          "base_uri": "https://localhost:8080/"
        },
        "id": "5T3i44mmObrL",
        "outputId": "5b78daef-a9e2-4787-c0e3-172766bd9d3a"
      },
      "execution_count": null,
      "outputs": [
        {
          "output_type": "stream",
          "name": "stdout",
          "text": [
            "label\n",
            "triangle/warning          695\n",
            "round/noentry             375\n",
            "round/speed               316\n",
            "round/bicycle             285\n",
            "diamond/rightofway        282\n",
            "square/parking            276\n",
            "round/noparking           242\n",
            "triangle/giveway          231\n",
            "square/continue           199\n",
            "round/trafficdirective    195\n",
            "round/limitedtraffic      125\n",
            "round/traveldirection     124\n",
            "square/laneend            118\n",
            "round/roundabout           98\n",
            "square/crossing            95\n",
            "hex/stop                   43\n",
            "Name: count, dtype: int64\n"
          ]
        }
      ]
    },
    {
      "cell_type": "code",
      "source": [
        "# Plotting length of each label with bar chart\n",
        "plt.figure(figsize=(10, 6))\n",
        "\n",
        "# Create a bar plot\n",
        "label_counts.plot(kind='bar', color='skyblue')\n",
        "\n",
        "plt.title('Frequency of Labels')\n",
        "plt.xlabel('Label')\n",
        "plt.ylabel('Frequency')\n",
        "plt.xticks(rotation=45, ha='right')\n",
        "plt.tight_layout()\n",
        "plt.show()\n"
      ],
      "metadata": {
        "colab": {
          "base_uri": "https://localhost:8080/",
          "height": 607
        },
        "id": "LG9IRCaOOeAC",
        "outputId": "03d80ba3-d27e-44fa-9061-695ad14a2126"
      },
      "execution_count": null,
      "outputs": [
        {
          "output_type": "display_data",
          "data": {
            "text/plain": [
              "<Figure size 1000x600 with 1 Axes>"
            ],
            "image/png": "[encoded data removed]"
          },
          "metadata": {}
        }
      ]
    },
    {
      "cell_type": "code",
      "source": [
        "print(subfolder_variables['hex']['stop'])"
      ],
      "metadata": {
        "colab": {
          "base_uri": "https://localhost:8080/"
        },
        "id": "ebT3JMgRRZ15",
        "outputId": "52a6fb9c-f228-4037-a620-bcd1095c15fc"
      },
      "execution_count": null,
      "outputs": [
        {
          "output_type": "stream",
          "name": "stdout",
          "text": [
            "[<PIL.PngImagePlugin.PngImageFile image mode=L size=28x28 at 0x7B47B21706D0>, <PIL.PngImagePlugin.PngImageFile image mode=L size=28x28 at 0x7B47B51CFEE0>, <PIL.PngImagePlugin.PngImageFile image mode=L size=28x28 at 0x7B479EE64D60>, <PIL.PngImagePlugin.PngImageFile image mode=L size=28x28 at 0x7B479EE64FD0>, <PIL.PngImagePlugin.PngImageFile image mode=L size=28x28 at 0x7B479EE65030>, <PIL.PngImagePlugin.PngImageFile image mode=L size=28x28 at 0x7B479EE65090>, <PIL.PngImagePlugin.PngImageFile image mode=L size=28x28 at 0x7B479EE650F0>, <PIL.PngImagePlugin.PngImageFile image mode=L size=28x28 at 0x7B479EE65150>, <PIL.PngImagePlugin.PngImageFile image mode=L size=28x28 at 0x7B479EE651B0>, <PIL.PngImagePlugin.PngImageFile image mode=L size=28x28 at 0x7B479EE65210>, <PIL.PngImagePlugin.PngImageFile image mode=L size=28x28 at 0x7B479EE65270>, <PIL.PngImagePlugin.PngImageFile image mode=L size=28x28 at 0x7B479EE652D0>, <PIL.PngImagePlugin.PngImageFile image mode=L size=28x28 at 0x7B479EE65330>, <PIL.PngImagePlugin.PngImageFile image mode=L size=28x28 at 0x7B479EE65390>, <PIL.PngImagePlugin.PngImageFile image mode=L size=28x28 at 0x7B479EE653F0>, <PIL.PngImagePlugin.PngImageFile image mode=L size=28x28 at 0x7B479EE65450>, <PIL.PngImagePlugin.PngImageFile image mode=L size=28x28 at 0x7B479EE654B0>, <PIL.PngImagePlugin.PngImageFile image mode=L size=28x28 at 0x7B479EE65510>, <PIL.PngImagePlugin.PngImageFile image mode=L size=28x28 at 0x7B479EE65570>, <PIL.PngImagePlugin.PngImageFile image mode=L size=28x28 at 0x7B479EE655D0>, <PIL.PngImagePlugin.PngImageFile image mode=L size=28x28 at 0x7B479EE65630>, <PIL.PngImagePlugin.PngImageFile image mode=L size=28x28 at 0x7B479EE65690>, <PIL.PngImagePlugin.PngImageFile image mode=L size=28x28 at 0x7B479EE656F0>, <PIL.PngImagePlugin.PngImageFile image mode=L size=28x28 at 0x7B479EE65750>, <PIL.PngImagePlugin.PngImageFile image mode=L size=28x28 at 0x7B479EE657B0>, <PIL.PngImagePlugin.PngImageFile image mode=L size=28x28 at 0x7B479EE65810>, <PIL.PngImagePlugin.PngImageFile image mode=L size=28x28 at 0x7B479EE65870>, <PIL.PngImagePlugin.PngImageFile image mode=L size=28x28 at 0x7B479EE658D0>, <PIL.PngImagePlugin.PngImageFile image mode=L size=28x28 at 0x7B479EE65930>, <PIL.PngImagePlugin.PngImageFile image mode=L size=28x28 at 0x7B479EE65990>, <PIL.PngImagePlugin.PngImageFile image mode=L size=28x28 at 0x7B479EE659F0>, <PIL.PngImagePlugin.PngImageFile image mode=L size=28x28 at 0x7B479EE65A50>, <PIL.PngImagePlugin.PngImageFile image mode=L size=28x28 at 0x7B479EE65AB0>, <PIL.PngImagePlugin.PngImageFile image mode=L size=28x28 at 0x7B479EE65B10>, <PIL.PngImagePlugin.PngImageFile image mode=L size=28x28 at 0x7B479EE65B70>, <PIL.PngImagePlugin.PngImageFile image mode=L size=28x28 at 0x7B479EE65BD0>, <PIL.PngImagePlugin.PngImageFile image mode=L size=28x28 at 0x7B479EE65C30>, <PIL.PngImagePlugin.PngImageFile image mode=L size=28x28 at 0x7B479EE65C90>, <PIL.PngImagePlugin.PngImageFile image mode=L size=28x28 at 0x7B479EE65CF0>, <PIL.PngImagePlugin.PngImageFile image mode=L size=28x28 at 0x7B479EE65D50>, <PIL.PngImagePlugin.PngImageFile image mode=L size=28x28 at 0x7B479EE65DB0>, <PIL.PngImagePlugin.PngImageFile image mode=L size=28x28 at 0x7B479EE65E10>, <PIL.PngImagePlugin.PngImageFile image mode=L size=28x28 at 0x7B479EE65E70>]\n"
          ]
        }
      ]
    },
    {
      "cell_type": "code",
      "source": [
        "def random_image(pic_list, sample_size=4):\n",
        "    '''Display a random sample of images from pic_list'''\n",
        "    fig = plt.gcf()\n",
        "    fig.set_size_inches(16, 16)  # fig size\n",
        "\n",
        "    # Randomly select a subset of images from pic_list\n",
        "    sampled_images = random.sample(pic_list, min(sample_size, len(pic_list)))\n",
        "\n",
        "    # Display the sampled images\n",
        "    for i, img in enumerate(sampled_images):\n",
        "        sp = plt.subplot(1, sample_size, i + 1)\n",
        "        sp.axis('Off')\n",
        "        plt.imshow(img)\n",
        "\n",
        "    plt.show()\n",
        "\n",
        "# show stop subfolder of hex\n",
        "random_image(subfolder_variables['hex']['stop'], sample_size=4)\n"
      ],
      "metadata": {
        "id": "HJjoLHr8tMtV",
        "colab": {
          "base_uri": "https://localhost:8080/",
          "height": 306
        },
        "outputId": "d83c1590-a04a-4717-dffd-405246a46383"
      },
      "execution_count": null,
      "outputs": [
        {
          "output_type": "display_data",
          "data": {
            "text/plain": [
              "<Figure size 1600x1600 with 4 Axes>"
            ],
            "image/png": "[encoded data removed]"
          },
          "metadata": {}
        }
      ]
    },
    {
      "cell_type": "code",
      "source": [
        "# show stop subfolder of hex\n",
        "random_image(subfolder_variables['triangle']['warning'], sample_size=4)"
      ],
      "metadata": {
        "colab": {
          "base_uri": "https://localhost:8080/",
          "height": 306
        },
        "id": "2OLRVG-QEGr4",
        "outputId": "9d29029c-bb51-42c2-9ba9-e99bef03cc8a"
      },
      "execution_count": null,
      "outputs": [
        {
          "output_type": "display_data",
          "data": {
            "text/plain": [
              "<Figure size 1600x1600 with 4 Axes>"
            ],
            "image/png": "[encoded data removed]"
          },
          "metadata": {}
        }
      ]
    },
    {
      "cell_type": "code",
      "source": [
        "# show stop subfolder of hex\n",
        "random_image(subfolder_variables['round']['limitedtraffic'], sample_size=4)"
      ],
      "metadata": {
        "colab": {
          "base_uri": "https://localhost:8080/",
          "height": 306
        },
        "id": "od9RnwF0It7y",
        "outputId": "c453f5df-a8cf-452f-8f46-c39209e33191"
      },
      "execution_count": null,
      "outputs": [
        {
          "output_type": "display_data",
          "data": {
            "text/plain": [
              "<Figure size 1600x1600 with 4 Axes>"
            ],
            "image/png": "[encoded data removed]"
          },
          "metadata": {}
        }
      ]
    },
    {
      "cell_type": "code",
      "source": [
        "# double check shape of images\n",
        "for i in range(len(df)):\n",
        "    image_path = df.loc[i, 'image name']\n",
        "    image = plt.imread(image_path)\n",
        "    image_shape = image.shape\n",
        "    print(f\"Image at index {i}: Shape = {image_shape}\")"
      ],
      "metadata": {
        "id": "BG5JvH5QJCND"
      },
      "execution_count": null,
      "outputs": []
    },
    {
      "cell_type": "markdown",
      "source": [
        "# **Data Preprocessing**"
      ],
      "metadata": {
        "id": "MckHYVbHXhj-"
      }
    },
    {
      "cell_type": "markdown",
      "source": [
        "## 1. Picture Rotation"
      ],
      "metadata": {
        "id": "1U5qHo5qFJ5Q"
      }
    },
    {
      "cell_type": "code",
      "source": [
        "def correct_image_orientation(image_path):\n",
        "    img = cv2.imread(image_path)\n",
        "    height, width = img.shape[:2]\n",
        "\n",
        "    if height > width:\n",
        "        rotated_img = cv2.rotate(img, cv2.ROTATE_90_CLOCKWISE)\n",
        "        cv2.imwrite(image_path, rotated_img)\n",
        "\n",
        "def process_images_in_directory(root_dir):\n",
        "    for root, dirs, files in os.walk(root_dir):\n",
        "        for file in files:\n",
        "            if file.endswith('.png'):\n",
        "                image_path = os.path.join(root, file)\n",
        "                correct_image_orientation(image_path)\n",
        "\n"
      ],
      "metadata": {
        "id": "RTZgkwpAFFJM"
      },
      "execution_count": null,
      "outputs": []
    },
    {
      "cell_type": "code",
      "source": [
        "root_directory = 'drive/  __MACOSX/  sample_data/  trafficsigns_dataset/'\n",
        "process_images_in_directory(root_directory)"
      ],
      "metadata": {
        "id": "MbGGp11nFGc8"
      },
      "execution_count": null,
      "outputs": []
    },
    {
      "cell_type": "code",
      "source": [
        "ls"
      ],
      "metadata": {
        "colab": {
          "base_uri": "https://localhost:8080/"
        },
        "id": "SeuWZChRFG4k",
        "outputId": "e74e65d9-0344-40a1-91a7-2de81ee8478e"
      },
      "execution_count": null,
      "outputs": [
        {
          "output_type": "stream",
          "name": "stdout",
          "text": [
            "\u001b[0m\u001b[01;34mdrive\u001b[0m/  \u001b[01;34m__MACOSX\u001b[0m/  \u001b[01;34msample_data\u001b[0m/  \u001b[01;34mtrafficsigns_dataset\u001b[0m/\n"
          ]
        }
      ]
    },
    {
      "cell_type": "markdown",
      "source": [
        "## 2. Encode Labels"
      ],
      "metadata": {
        "id": "EfFGzuATYnVL"
      }
    },
    {
      "cell_type": "code",
      "source": [
        "df['label'].unique()"
      ],
      "metadata": {
        "colab": {
          "base_uri": "https://localhost:8080/"
        },
        "id": "3dDj6zSHqvne",
        "outputId": "bddea5f4-b645-4eab-e126-607d5e54c0bf"
      },
      "execution_count": null,
      "outputs": [
        {
          "output_type": "execute_result",
          "data": {
            "text/plain": [
              "array(['hex/stop', 'triangle/warning', 'triangle/giveway',\n",
              "       'diamond/rightofway', 'square/laneend', 'square/crossing',\n",
              "       'square/continue', 'square/parking', 'round/traveldirection',\n",
              "       'round/noparking', 'round/limitedtraffic', 'round/roundabout',\n",
              "       'round/noentry', 'round/trafficdirective', 'round/speed',\n",
              "       'round/bicycle'], dtype=object)"
            ]
          },
          "metadata": {},
          "execution_count": 28
        }
      ]
    },
    {
      "cell_type": "code",
      "source": [
        "df[df['label']=='Basmati']"
      ],
      "metadata": {
        "colab": {
          "base_uri": "https://localhost:8080/",
          "height": 53
        },
        "id": "JyJXdkF_q2nH",
        "outputId": "d06030bf-a89a-4b1e-f076-8733d55cdb16"
      },
      "execution_count": null,
      "outputs": [
        {
          "output_type": "execute_result",
          "data": {
            "text/plain": [
              "Empty DataFrame\n",
              "Columns: [image name, label, encode_label]\n",
              "Index: []"
            ],
            "text/html": [
              "\n",
              "  <div id=\"df-955ca1da-81a0-4a80-b072-fa7a8647f764\" class=\"colab-df-container\">\n",
              "    <div>\n",
              "<style scoped>\n",
              "    .dataframe tbody tr th:only-of-type {\n",
              "        vertical-align: middle;\n",
              "    }\n",
              "\n",
              "    .dataframe tbody tr th {\n",
              "        vertical-align: top;\n",
              "    }\n",
              "\n",
              "    .dataframe thead th {\n",
              "        text-align: right;\n",
              "    }\n",
              "</style>\n",
              "<table border=\"1\" class=\"dataframe\">\n",
              "  <thead>\n",
              "    <tr style=\"text-align: right;\">\n",
              "      <th></th>\n",
              "      <th>image name</th>\n",
              "      <th>label</th>\n",
              "      <th>encode_label</th>\n",
              "    </tr>\n",
              "  </thead>\n",
              "  <tbody>\n",
              "  </tbody>\n",
              "</table>\n",
              "</div>\n",
              "    <div class=\"colab-df-buttons\">\n",
              "\n",
              "  <div class=\"colab-df-container\">\n",
              "    <button class=\"colab-df-convert\" onclick=\"convertToInteractive('df-955ca1da-81a0-4a80-b072-fa7a8647f764')\"\n",
              "            title=\"Convert this dataframe to an interactive table.\"\n",
              "            style=\"display:none;\">\n",
              "\n",
              "  <svg xmlns=\"http://www.w3.org/2000/svg\" height=\"24px\" viewBox=\"0 -960 960 960\">\n",
              "    <path d=\"M120-120v-720h720v720H120Zm60-500h600v-160H180v160Zm220 220h160v-160H400v160Zm0 220h160v-160H400v160ZM180-400h160v-160H180v160Zm440 0h160v-160H620v160ZM180-180h160v-160H180v160Zm440 0h160v-160H620v160Z\"/>\n",
              "  </svg>\n",
              "    </button>\n",
              "\n",
              "  <style>\n",
              "    .colab-df-container {\n",
              "      display:flex;\n",
              "      gap: 12px;\n",
              "    }\n",
              "\n",
              "    .colab-df-convert {\n",
              "      background-color: #E8F0FE;\n",
              "      border: none;\n",
              "      border-radius: 50%;\n",
              "      cursor: pointer;\n",
              "      display: none;\n",
              "      fill: #1967D2;\n",
              "      height: 32px;\n",
              "      padding: 0 0 0 0;\n",
              "      width: 32px;\n",
              "    }\n",
              "\n",
              "    .colab-df-convert:hover {\n",
              "      background-color: #E2EBFA;\n",
              "      box-shadow: 0px 1px 2px rgba(60, 64, 67, 0.3), 0px 1px 3px 1px rgba(60, 64, 67, 0.15);\n",
              "      fill: #174EA6;\n",
              "    }\n",
              "\n",
              "    .colab-df-buttons div {\n",
              "      margin-bottom: 4px;\n",
              "    }\n",
              "\n",
              "    [theme=dark] .colab-df-convert {\n",
              "      background-color: #3B4455;\n",
              "      fill: #D2E3FC;\n",
              "    }\n",
              "\n",
              "    [theme=dark] .colab-df-convert:hover {\n",
              "      background-color: #434B5C;\n",
              "      box-shadow: 0px 1px 3px 1px rgba(0, 0, 0, 0.15);\n",
              "      filter: drop-shadow(0px 1px 2px rgba(0, 0, 0, 0.3));\n",
              "      fill: #FFFFFF;\n",
              "    }\n",
              "  </style>\n",
              "\n",
              "    <script>\n",
              "      const buttonEl =\n",
              "        document.querySelector('#df-955ca1da-81a0-4a80-b072-fa7a8647f764 button.colab-df-convert');\n",
              "      buttonEl.style.display =\n",
              "        google.colab.kernel.accessAllowed ? 'block' : 'none';\n",
              "\n",
              "      async function convertToInteractive(key) {\n",
              "        const element = document.querySelector('#df-955ca1da-81a0-4a80-b072-fa7a8647f764');\n",
              "        const dataTable =\n",
              "          await google.colab.kernel.invokeFunction('convertToInteractive',\n",
              "                                                    [key], {});\n",
              "        if (!dataTable) return;\n",
              "\n",
              "        const docLinkHtml = 'Like what you see? Visit the ' +\n",
              "          '<a target=\"_blank\" href=https://colab.research.google.com/notebooks/data_table.ipynb>data table notebook</a>'\n",
              "          + ' to learn more about interactive tables.';\n",
              "        element.innerHTML = '';\n",
              "        dataTable['output_type'] = 'display_data';\n",
              "        await google.colab.output.renderOutput(dataTable, element);\n",
              "        const docLink = document.createElement('div');\n",
              "        docLink.innerHTML = docLinkHtml;\n",
              "        element.appendChild(docLink);\n",
              "      }\n",
              "    </script>\n",
              "  </div>\n",
              "\n",
              "\n",
              "    </div>\n",
              "  </div>\n"
            ],
            "application/vnd.google.colaboratory.intrinsic+json": {
              "type": "dataframe",
              "repr_error": "Out of range float values are not JSON compliant: nan"
            }
          },
          "metadata": {},
          "execution_count": 29
        }
      ]
    },
    {
      "cell_type": "code",
      "source": [
        "df[df['encode_label'].isnull()]"
      ],
      "metadata": {
        "colab": {
          "base_uri": "https://localhost:8080/",
          "height": 53
        },
        "id": "BRXyygbwrthV",
        "outputId": "0d43657b-04ba-441d-978b-1ac77959e791"
      },
      "execution_count": null,
      "outputs": [
        {
          "output_type": "execute_result",
          "data": {
            "text/plain": [
              "Empty DataFrame\n",
              "Columns: [image name, label, encode_label]\n",
              "Index: []"
            ],
            "text/html": [
              "\n",
              "  <div id=\"df-8a5f430b-43d7-4702-ba39-72aada24db7f\" class=\"colab-df-container\">\n",
              "    <div>\n",
              "<style scoped>\n",
              "    .dataframe tbody tr th:only-of-type {\n",
              "        vertical-align: middle;\n",
              "    }\n",
              "\n",
              "    .dataframe tbody tr th {\n",
              "        vertical-align: top;\n",
              "    }\n",
              "\n",
              "    .dataframe thead th {\n",
              "        text-align: right;\n",
              "    }\n",
              "</style>\n",
              "<table border=\"1\" class=\"dataframe\">\n",
              "  <thead>\n",
              "    <tr style=\"text-align: right;\">\n",
              "      <th></th>\n",
              "      <th>image name</th>\n",
              "      <th>label</th>\n",
              "      <th>encode_label</th>\n",
              "    </tr>\n",
              "  </thead>\n",
              "  <tbody>\n",
              "  </tbody>\n",
              "</table>\n",
              "</div>\n",
              "    <div class=\"colab-df-buttons\">\n",
              "\n",
              "  <div class=\"colab-df-container\">\n",
              "    <button class=\"colab-df-convert\" onclick=\"convertToInteractive('df-8a5f430b-43d7-4702-ba39-72aada24db7f')\"\n",
              "            title=\"Convert this dataframe to an interactive table.\"\n",
              "            style=\"display:none;\">\n",
              "\n",
              "  <svg xmlns=\"http://www.w3.org/2000/svg\" height=\"24px\" viewBox=\"0 -960 960 960\">\n",
              "    <path d=\"M120-120v-720h720v720H120Zm60-500h600v-160H180v160Zm220 220h160v-160H400v160Zm0 220h160v-160H400v160ZM180-400h160v-160H180v160Zm440 0h160v-160H620v160ZM180-180h160v-160H180v160Zm440 0h160v-160H620v160Z\"/>\n",
              "  </svg>\n",
              "    </button>\n",
              "\n",
              "  <style>\n",
              "    .colab-df-container {\n",
              "      display:flex;\n",
              "      gap: 12px;\n",
              "    }\n",
              "\n",
              "    .colab-df-convert {\n",
              "      background-color: #E8F0FE;\n",
              "      border: none;\n",
              "      border-radius: 50%;\n",
              "      cursor: pointer;\n",
              "      display: none;\n",
              "      fill: #1967D2;\n",
              "      height: 32px;\n",
              "      padding: 0 0 0 0;\n",
              "      width: 32px;\n",
              "    }\n",
              "\n",
              "    .colab-df-convert:hover {\n",
              "      background-color: #E2EBFA;\n",
              "      box-shadow: 0px 1px 2px rgba(60, 64, 67, 0.3), 0px 1px 3px 1px rgba(60, 64, 67, 0.15);\n",
              "      fill: #174EA6;\n",
              "    }\n",
              "\n",
              "    .colab-df-buttons div {\n",
              "      margin-bottom: 4px;\n",
              "    }\n",
              "\n",
              "    [theme=dark] .colab-df-convert {\n",
              "      background-color: #3B4455;\n",
              "      fill: #D2E3FC;\n",
              "    }\n",
              "\n",
              "    [theme=dark] .colab-df-convert:hover {\n",
              "      background-color: #434B5C;\n",
              "      box-shadow: 0px 1px 3px 1px rgba(0, 0, 0, 0.15);\n",
              "      filter: drop-shadow(0px 1px 2px rgba(0, 0, 0, 0.3));\n",
              "      fill: #FFFFFF;\n",
              "    }\n",
              "  </style>\n",
              "\n",
              "    <script>\n",
              "      const buttonEl =\n",
              "        document.querySelector('#df-8a5f430b-43d7-4702-ba39-72aada24db7f button.colab-df-convert');\n",
              "      buttonEl.style.display =\n",
              "        google.colab.kernel.accessAllowed ? 'block' : 'none';\n",
              "\n",
              "      async function convertToInteractive(key) {\n",
              "        const element = document.querySelector('#df-8a5f430b-43d7-4702-ba39-72aada24db7f');\n",
              "        const dataTable =\n",
              "          await google.colab.kernel.invokeFunction('convertToInteractive',\n",
              "                                                    [key], {});\n",
              "        if (!dataTable) return;\n",
              "\n",
              "        const docLinkHtml = 'Like what you see? Visit the ' +\n",
              "          '<a target=\"_blank\" href=https://colab.research.google.com/notebooks/data_table.ipynb>data table notebook</a>'\n",
              "          + ' to learn more about interactive tables.';\n",
              "        element.innerHTML = '';\n",
              "        dataTable['output_type'] = 'display_data';\n",
              "        await google.colab.output.renderOutput(dataTable, element);\n",
              "        const docLink = document.createElement('div');\n",
              "        docLink.innerHTML = docLinkHtml;\n",
              "        element.appendChild(docLink);\n",
              "      }\n",
              "    </script>\n",
              "  </div>\n",
              "\n",
              "\n",
              "    </div>\n",
              "  </div>\n"
            ],
            "application/vnd.google.colaboratory.intrinsic+json": {
              "type": "dataframe",
              "repr_error": "Out of range float values are not JSON compliant: nan"
            }
          },
          "metadata": {},
          "execution_count": 62
        }
      ]
    },
    {
      "cell_type": "markdown",
      "source": [
        "# **Encode the images as arrays**"
      ],
      "metadata": {
        "id": "UtQ_lUOQbxhu"
      }
    },
    {
      "cell_type": "code",
      "source": [
        "import cv2\n",
        "\n",
        "X = []\n",
        "for image in df['image name']:\n",
        "    image = cv2.imread(str(image))\n",
        "    #image = augment_function(image)\n",
        "    image = cv2.resize(image, (100, 100))\n",
        "    #image = image/255\n",
        "    X.append(image)"
      ],
      "metadata": {
        "id": "2IU2TTw8b8ZZ"
      },
      "execution_count": null,
      "outputs": []
    },
    {
      "cell_type": "code",
      "source": [
        "len(X)\n",
        "X[:2]"
      ],
      "metadata": {
        "id": "c2UwGaNCeDwf"
      },
      "execution_count": null,
      "outputs": []
    },
    {
      "cell_type": "code",
      "source": [
        "len(X)"
      ],
      "metadata": {
        "id": "ybdXDgXL_LwW",
        "outputId": "308a2cd2-e4cf-43f3-ec14-bfc3b7e68789",
        "colab": {
          "base_uri": "https://localhost:8080/"
        }
      },
      "execution_count": null,
      "outputs": [
        {
          "output_type": "execute_result",
          "data": {
            "text/plain": [
              "3699"
            ]
          },
          "metadata": {},
          "execution_count": 139
        }
      ]
    },
    {
      "cell_type": "code",
      "source": [
        "plt.imshow(X[0])"
      ],
      "metadata": {
        "colab": {
          "base_uri": "https://localhost:8080/",
          "height": 451
        },
        "id": "6_x5CA4zd4su",
        "outputId": "340e7398-f610-4d9b-f4cc-218dd06b6ca6"
      },
      "execution_count": null,
      "outputs": [
        {
          "output_type": "execute_result",
          "data": {
            "text/plain": [
              "<matplotlib.image.AxesImage at 0x7b4782f038b0>"
            ]
          },
          "metadata": {},
          "execution_count": 147
        },
        {
          "output_type": "display_data",
          "data": {
            "text/plain": [
              "<Figure size 640x480 with 1 Axes>"
            ],
            "image/png": "[encoded data removed]"
          },
          "metadata": {}
        }
      ]
    },
    {
      "cell_type": "markdown",
      "source": [
        "# **Splitting into train and test sets**"
      ],
      "metadata": {
        "id": "3Fxk1zJOtuBk"
      }
    },
    {
      "cell_type": "code",
      "source": [
        "from sklearn.model_selection import train_test_split\n",
        "\n",
        "# Splitting the data into train set (70%), validation set (10%), and test set (20%)\n",
        "train_data, test_data = train_test_split(df, test_size=0.2, random_state=45)\n",
        "train_data, val_data = train_test_split(train_data, test_size=0.125, random_state=45) # So there is more training data\n",
        "\n",
        "print(\"Train data : {}, Val Data: {}, Test Data: {}\".format(train_data.shape[0], val_data.shape[0], test_data.shape[0]))"
      ],
      "metadata": {
        "colab": {
          "base_uri": "https://localhost:8080/"
        },
        "id": "yN2JBrjvp_j_",
        "outputId": "a6fd956c-cb98-4e2e-f74b-cb9e3052254f"
      },
      "execution_count": null,
      "outputs": [
        {
          "output_type": "stream",
          "name": "stdout",
          "text": [
            "Train data : 2589, Val Data: 370, Test Data: 740\n"
          ]
        }
      ]
    },
    {
      "cell_type": "markdown",
      "source": [
        "# **Base model**"
      ],
      "metadata": {
        "id": "A86gYwTuvcqS"
      }
    },
    {
      "cell_type": "code",
      "source": [
        "from keras import layers\n",
        "import keras\n",
        "\n",
        "# Initialise\n",
        "rotator_flipper = keras.Sequential([\n",
        "  layers.RandomFlip(\"horizontal_and_vertical\"),\n",
        "  layers.RandomRotation(0.4),\n",
        "])"
      ],
      "metadata": {
        "id": "NY-j24Nvvccz"
      },
      "execution_count": null,
      "outputs": []
    },
    {
      "cell_type": "code",
      "source": [
        "model = tf.keras.Sequential([\n",
        "    # Apply augmentation buy adding it to model layer\n",
        "    rotator_flipper,\n",
        "    tf.keras.layers.Flatten(input_shape=(28,28,3)),\n",
        "    tf.keras.layers.Dense(256, activation='sigmoid'),\n",
        "    tf.keras.layers.Dense(16)\n",
        "])\n",
        "model.compile(optimizer='SGD',\n",
        "              loss=tf.keras.losses.CategoricalCrossentropy(from_logits=True),\n",
        "              metrics=['categorical_accuracy'])"
      ],
      "metadata": {
        "id": "wnaBtcqzwCfB"
      },
      "execution_count": null,
      "outputs": []
    },
    {
      "cell_type": "code",
      "source": [
        "train_data['label'] = train_data['label'].astype('str')\n",
        "val_data['label'] = val_data['label'].astype('str')"
      ],
      "metadata": {
        "id": "abso5RGwzpyg"
      },
      "execution_count": null,
      "outputs": []
    },
    {
      "cell_type": "code",
      "source": [
        "from tensorflow.keras.preprocessing.image import ImageDataGenerator\n",
        "\n",
        "train_datagen = ImageDataGenerator(rescale=1./255, data_format='channels_last')\n",
        "val_datagen = ImageDataGenerator(rescale=1./255, data_format='channels_last')\n",
        "\n",
        "batch_size = 32\n",
        "\n",
        "train_generator = train_datagen.flow_from_dataframe(\n",
        "        dataframe=train_data,\n",
        "        directory='./',\n",
        "        x_col=\"image name\",\n",
        "        y_col=\"label\",\n",
        "        target_size=(32, 32),\n",
        "        batch_size=batch_size,\n",
        "        class_mode='categorical')\n",
        "\n",
        "validation_generator = val_datagen.flow_from_dataframe(\n",
        "        dataframe=val_data,\n",
        "        directory='./',\n",
        "        x_col=\"image name\",\n",
        "        y_col=\"label\",\n",
        "        target_size=(32, 32),\n",
        "        batch_size=batch_size,\n",
        "        class_mode='categorical')"
      ],
      "metadata": {
        "colab": {
          "base_uri": "https://localhost:8080/"
        },
        "id": "3o2wIYJ01FEn",
        "outputId": "112700a6-450b-4c19-9e53-ac84b44d28d1"
      },
      "execution_count": null,
      "outputs": [
        {
          "output_type": "stream",
          "name": "stdout",
          "text": [
            "Found 2589 validated image filenames belonging to 16 classes.\n",
            "Found 370 validated image filenames belonging to 16 classes.\n"
          ]
        }
      ]
    },
    {
      "cell_type": "code",
      "source": [
        "history = model.fit_generator(train_generator, validation_data = validation_generator, epochs=50, verbose=0)"
      ],
      "metadata": {
        "colab": {
          "base_uri": "https://localhost:8080/"
        },
        "id": "rXiLry411VUy",
        "outputId": "463ccc89-caaa-4d62-e0b9-0508f6839057"
      },
      "execution_count": null,
      "outputs": [
        {
          "output_type": "stream",
          "name": "stderr",
          "text": [
            "<ipython-input-117-243f5d5117d3>:1: UserWarning: `Model.fit_generator` is deprecated and will be removed in a future version. Please use `Model.fit`, which supports generators.\n",
            "  history = model.fit_generator(train_generator, validation_data = validation_generator, epochs=50, verbose=0)\n"
          ]
        }
      ]
    },
    {
      "cell_type": "markdown",
      "source": [
        "## Learning Curve"
      ],
      "metadata": {
        "id": "1JdgTIhg1h1y"
      }
    },
    {
      "cell_type": "code",
      "source": [
        "import matplotlib.pyplot as plt\n",
        "def plot_learning_curve(train_loss, val_loss, train_metric, val_metric, metric_name='Accuracy'):\n",
        "    plt.figure(figsize=(10,5))\n",
        "\n",
        "    plt.subplot(1,2,1)\n",
        "    plt.plot(train_loss, 'r--')\n",
        "    plt.plot(val_loss, 'b--')\n",
        "    plt.xlabel(\"epochs\")\n",
        "    plt.ylabel(\"Loss\")\n",
        "    plt.legend(['train', 'val'], loc='upper left')\n",
        "\n",
        "    plt.subplot(1,2,2)\n",
        "    plt.plot(train_metric, 'r--')\n",
        "    plt.plot(val_metric, 'b--')\n",
        "    plt.xlabel(\"epochs\")\n",
        "    plt.ylabel(metric_name)\n",
        "    plt.legend(['train', 'val'], loc='upper left')\n",
        "\n",
        "    plt.show()"
      ],
      "metadata": {
        "id": "_KQpy3fd1m-f"
      },
      "execution_count": null,
      "outputs": []
    },
    {
      "cell_type": "code",
      "source": [
        "plot_learning_curve(history.history['loss'], history.history['val_loss'],\n",
        "                    history.history['categorical_accuracy'], history.history['val_categorical_accuracy'],\n",
        "                    metric_name='Accuracy')"
      ],
      "metadata": {
        "colab": {
          "base_uri": "https://localhost:8080/",
          "height": 465
        },
        "id": "IjnVbmZ-1nea",
        "outputId": "91c2d227-944f-425b-e1ae-613bdac6f481"
      },
      "execution_count": null,
      "outputs": [
        {
          "output_type": "display_data",
          "data": {
            "text/plain": [
              "<Figure size 1000x500 with 2 Axes>"
            ],
            "image/png": "[encoded data removed]"
          },
          "metadata": {}
        }
      ]
    },
    {
      "cell_type": "markdown",
      "source": [
        "# **Testing final model**"
      ],
      "metadata": {
        "id": "E3x1UMeT8Z7-"
      }
    },
    {
      "cell_type": "code",
      "source": [
        "test_data['label'] = test_data['label'].astype('str')\n",
        "\n",
        "test_datagen = ImageDataGenerator(rescale=1./255, data_format='channels_last')\n",
        "\n",
        "batch_size = 1\n",
        "\n",
        "test_generator = test_datagen.flow_from_dataframe(\n",
        "        dataframe=test_data,\n",
        "        directory='./',\n",
        "        x_col=\"image name\",\n",
        "        y_col=\"label\",\n",
        "        target_size=(32, 32),\n",
        "        batch_size=batch_size,\n",
        "        class_mode='categorical')"
      ],
      "metadata": {
        "id": "nYGUy40W8c4o",
        "outputId": "c0bcca4a-942a-47d7-f759-47fbac216d7d",
        "colab": {
          "base_uri": "https://localhost:8080/"
        }
      },
      "execution_count": null,
      "outputs": [
        {
          "output_type": "stream",
          "name": "stdout",
          "text": [
            "Found 740 validated image filenames belonging to 16 classes.\n"
          ]
        }
      ]
    },
    {
      "cell_type": "code",
      "source": [
        "model.evaluate(test_generator)"
      ],
      "metadata": {
        "id": "R4hXPLrv8q_N",
        "outputId": "b4e1ac2f-1ee8-48b1-9814-03de3d434811",
        "colab": {
          "base_uri": "https://localhost:8080/"
        }
      },
      "execution_count": null,
      "outputs": [
        {
          "output_type": "stream",
          "name": "stdout",
          "text": [
            "740/740 [==============================] - 3s 4ms/step - loss: 0.4279 - categorical_accuracy: 0.9824\n"
          ]
        },
        {
          "output_type": "execute_result",
          "data": {
            "text/plain": [
              "[0.4278627634048462, 0.9824324250221252]"
            ]
          },
          "metadata": {},
          "execution_count": 122
        }
      ]
    },
    {
      "cell_type": "markdown",
      "source": [
        "# **Visualising predictions**"
      ],
      "metadata": {
        "id": "Kn0ooJ758H1R"
      }
    },
    {
      "cell_type": "code",
      "source": [
        "sorted(df['label'].unique())"
      ],
      "metadata": {
        "id": "Cd0F4QXL-Nfq",
        "outputId": "dd3fff9b-84a9-41bc-a7c9-c4d85a9387a5",
        "colab": {
          "base_uri": "https://localhost:8080/"
        }
      },
      "execution_count": null,
      "outputs": [
        {
          "output_type": "execute_result",
          "data": {
            "text/plain": [
              "['diamond/rightofway',\n",
              " 'hex/stop',\n",
              " 'round/bicycle',\n",
              " 'round/limitedtraffic',\n",
              " 'round/noentry',\n",
              " 'round/noparking',\n",
              " 'round/roundabout',\n",
              " 'round/speed',\n",
              " 'round/trafficdirective',\n",
              " 'round/traveldirection',\n",
              " 'square/continue',\n",
              " 'square/crossing',\n",
              " 'square/laneend',\n",
              " 'square/parking',\n",
              " 'triangle/giveway',\n",
              " 'triangle/warning']"
            ]
          },
          "metadata": {},
          "execution_count": 159
        }
      ]
    },
    {
      "cell_type": "code",
      "source": [
        "sign_labels = {\n",
        "    'diamond/rightofway':0,\n",
        " 'hex/stop':1,\n",
        " 'round/bicycle':2,\n",
        " 'round/limitedtraffic':3,\n",
        " 'round/noentry':4,\n",
        " 'round/noparking':5,\n",
        " 'round/roundabout':6,\n",
        " 'round/speed':7,\n",
        " 'round/trafficdirective':8,\n",
        " 'round/traveldirection':9,\n",
        " 'square/continue':10,\n",
        " 'square/crossing':11,\n",
        " 'square/laneend':12,\n",
        " 'square/parking':13,\n",
        " 'triangle/giveway':14,\n",
        " 'triangle/warning':15\n",
        "}"
      ],
      "metadata": {
        "id": "JGAqmiYnAZud"
      },
      "execution_count": null,
      "outputs": []
    },
    {
      "cell_type": "code",
      "source": [
        "import numpy as np\n",
        "\n",
        "d_inv = {v: k for k, v in sign_labels.items()}\n",
        "plt.figure(figsize=(30,3))\n",
        "batches = 0\n",
        "for x,y in test_generator:\n",
        "        batches = batches + 1\n",
        "        y_hat = model.predict(x, verbose=0)\n",
        "        x = np.squeeze(x)\n",
        "        if batches < 4:\n",
        "            plt.subplot(1,5,batches)\n",
        "            plt.imshow(x)\n",
        "            plt.title(\"GT-{}, Pred-{}\".format(d_inv[np.argmax(y[0])], d_inv[np.argmax(y_hat[0])] ))\n",
        "\n",
        "        else:\n",
        "            break\n",
        "\n",
        "        plt.axis('off')"
      ],
      "metadata": {
        "id": "oiKBMDjx8G4m",
        "outputId": "21c95ba5-a082-4a6f-96b9-4b96c0ada45a",
        "colab": {
          "base_uri": "https://localhost:8080/",
          "height": 280
        }
      },
      "execution_count": null,
      "outputs": [
        {
          "output_type": "display_data",
          "data": {
            "text/plain": [
              "<Figure size 3000x300 with 3 Axes>"
            ],
            "image/png": "[encoded data removed]"
          },
          "metadata": {}
        }
      ]
    }
  ]
}